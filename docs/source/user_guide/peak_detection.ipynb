{
 "cells": [
  {
   "cell_type": "markdown",
   "id": "63186231-91ee-4b69-8a82-41d5969a83e0",
   "metadata": {},
   "source": [
    "# Peak Detection"
   ]
  },
  {
   "cell_type": "markdown",
   "id": "afe4c539-a1a7-431c-bcca-2e31a41c8c92",
   "metadata": {},
   "source": [
    "Feature detection, also referred to as peak detection, is the process by which local maxima that fulfill certain criteria (such as sufficient signal-to-noise ratio) are located in the signal acquired by a given analytical instrument. \n",
    "This process results in “features” associated with the analysis of molecular analytes from the sample under study or from chemical, instrument, or random noise.\n",
    "Typically, feature detection involves a mass dimension (*m/z*) as well as one or more separation dimensions (e.g. drift and/or retention time), the latter offering distinction among isobaric/isotopic features."
   ]
  },
  {
   "cell_type": "markdown",
   "id": "5d57f8ac-dae8-44d8-9fde-6dfa70788c54",
   "metadata": {},
   "source": [
    "## Persistent Homology"
   ]
  },
  {
   "cell_type": "markdown",
   "id": "c3c741d9-23af-4c74-8b1e-9b8f83b617cc",
   "metadata": {},
   "source": [
    "We have recently implemented a peak detection method that leverages persistent homology. Advantages are that it runs faster, uses much less memory, has a measure of signal-to-noise (persistence) built into the method, does not depend on any user-defined parameters, and does not require partitioning of the data to keep the processing tractable. \n",
    "We recommend use of this method, though we will continue to make the convolution-based approach available."
   ]
  },
  {
   "cell_type": "code",
   "execution_count": 1,
   "id": "ab3ca8c0-469a-41eb-acfa-902ee43b3466",
   "metadata": {},
   "outputs": [],
   "source": [
    "import deimos\n",
    "import numpy as np\n",
    "import matplotlib.pyplot as plt"
   ]
  },
  {
   "cell_type": "code",
   "execution_count": 2,
   "id": "2ec149de-cc0c-4548-845d-bfa906a16274",
   "metadata": {},
   "outputs": [
    {
     "name": "stdout",
     "output_type": "stream",
     "text": [
      "CPU times: user 3.35 s, sys: 3.86 s, total: 7.21 s\n",
      "Wall time: 7.65 s\n"
     ]
    }
   ],
   "source": [
    "%%time\n",
    "# Load data, excluding scanid column\n",
    "ms1 = deimos.load('example_data.h5', key='ms1', columns=['mz', 'drift_time', 'retention_time', 'intensity'])"
   ]
  },
  {
   "cell_type": "markdown",
   "id": "47127282-cf37-491c-b56e-7e3632017d53",
   "metadata": {},
   "source": [
    "We will next build arrays containing unique, sorted values (factors) for each dimension of the input data.\n",
    "This consideration ensures data connectivity in downstream activities (smoothing, peak detection) is not affected by, for example, thresholding.\n",
    "If an index is built from thresholded data directly, there can be scenarios in which otherwise disconnected data points become connected due to data loss.\n",
    "Factors can be used to build the index at any point."
   ]
  },
  {
   "cell_type": "code",
   "execution_count": 3,
   "id": "948238a5-91f1-4979-b7cc-66b6ed582300",
   "metadata": {},
   "outputs": [
    {
     "name": "stdout",
     "output_type": "stream",
     "text": [
      "CPU times: user 8.76 s, sys: 2.73 s, total: 11.5 s\n",
      "Wall time: 11.6 s\n"
     ]
    }
   ],
   "source": [
    "%%time\n",
    "# Build factors from raw data\n",
    "factors = deimos.build_factors(ms1, dims='detect')"
   ]
  },
  {
   "cell_type": "markdown",
   "id": "4a9d39aa-4371-418b-b6ec-a929f4be604e",
   "metadata": {},
   "source": [
    "For computational efficiency reasons, we next threshold the data before applying downstream operations."
   ]
  },
  {
   "cell_type": "code",
   "execution_count": 4,
   "id": "a9ceb9a7-cb68-40b9-90f5-c9e374d55cff",
   "metadata": {},
   "outputs": [
    {
     "name": "stdout",
     "output_type": "stream",
     "text": [
      "CPU times: user 568 ms, sys: 641 ms, total: 1.21 s\n",
      "Wall time: 1.23 s\n"
     ]
    }
   ],
   "source": [
    "%%time\n",
    "# Nominal threshold\n",
    "ms1 = deimos.threshold(ms1, threshold=500)"
   ]
  },
  {
   "cell_type": "markdown",
   "id": "0785d947-dbf6-450c-a117-8c2852c265ec",
   "metadata": {},
   "source": [
    "An index may now be built for the thresholded data for use in the following smoothing and peak detection operations."
   ]
  },
  {
   "cell_type": "code",
   "execution_count": 5,
   "id": "51005e9e-d651-4ae8-af52-236489ddbc06",
   "metadata": {},
   "outputs": [
    {
     "name": "stdout",
     "output_type": "stream",
     "text": [
      "CPU times: user 56.3 ms, sys: 4.14 ms, total: 60.5 ms\n",
      "Wall time: 60 ms\n"
     ]
    }
   ],
   "source": [
    "%%time\n",
    "# Build index\n",
    "index = deimos.build_index(ms1, factors)"
   ]
  },
  {
   "cell_type": "markdown",
   "id": "ab54e3bf-7618-4aa6-b706-37cb26cd4f4f",
   "metadata": {},
   "source": [
    "Before peak detection, it is good practice to smooth the data.\n",
    "The following smoothing parameters were determined by analysis of TuneMix and internal standards to minimize *m/z* error.\n",
    "Generally, keeping the smooth radius small and increasing number of iterations is preferable to a larger smoothing radius, albeit at greater computational expense.\n",
    "Notice we pass the index constructed for the thresholded data here."
   ]
  },
  {
   "cell_type": "code",
   "execution_count": 6,
   "id": "7ad76a08-9117-4d97-bf1f-ea2c97bb00bc",
   "metadata": {},
   "outputs": [
    {
     "name": "stdout",
     "output_type": "stream",
     "text": [
      "CPU times: user 5.09 s, sys: 292 ms, total: 5.38 s\n",
      "Wall time: 5.43 s\n"
     ]
    }
   ],
   "source": [
    "%%time\n",
    "# Smooth data\n",
    "ms1 = deimos.filters.smooth(ms1, index=index, dims=['mz', 'drift_time', 'retention_time'],\n",
    "                            radius=[0, 1, 0], iterations=7)"
   ]
  },
  {
   "cell_type": "markdown",
   "id": "c35a272d-cb52-4a1e-96c0-5c3dd0e7dd02",
   "metadata": {},
   "source": [
    "Finally, the peak detection operation.\n",
    "Note that by supplying a radius per dimension, an intensity-weighted per-dimension coordinate will be returned for each feature.\n",
    "These steps were combined in order to apply intensity weighting only to detected peaks, as opposed to all data points, improving computational efficiency.\n",
    "Parameters here are dependent on the resolution of your data.\n",
    "Zero indicates no weighting will be applied in that dimension.\n",
    "Notice we again pass the index constructed for the thresholded data here."
   ]
  },
  {
   "cell_type": "code",
   "execution_count": 7,
   "id": "90d61e06-42f8-4a44-aeeb-f89351b350ec",
   "metadata": {},
   "outputs": [
    {
     "name": "stdout",
     "output_type": "stream",
     "text": [
      "CPU times: user 5.18 s, sys: 547 ms, total: 5.73 s\n",
      "Wall time: 5.72 s\n"
     ]
    },
    {
     "data": {
      "text/html": [
       "<div>\n",
       "<style scoped>\n",
       "    .dataframe tbody tr th:only-of-type {\n",
       "        vertical-align: middle;\n",
       "    }\n",
       "\n",
       "    .dataframe tbody tr th {\n",
       "        vertical-align: top;\n",
       "    }\n",
       "\n",
       "    .dataframe thead th {\n",
       "        text-align: right;\n",
       "    }\n",
       "</style>\n",
       "<table border=\"1\" class=\"dataframe\">\n",
       "  <thead>\n",
       "    <tr style=\"text-align: right;\">\n",
       "      <th></th>\n",
       "      <th>mz</th>\n",
       "      <th>drift_time</th>\n",
       "      <th>retention_time</th>\n",
       "      <th>intensity</th>\n",
       "      <th>persistence</th>\n",
       "      <th>mz_weighted</th>\n",
       "      <th>drift_time_weighted</th>\n",
       "      <th>retention_time_weighted</th>\n",
       "    </tr>\n",
       "  </thead>\n",
       "  <tbody>\n",
       "    <tr>\n",
       "      <th>0</th>\n",
       "      <td>496.335480</td>\n",
       "      <td>28.378529</td>\n",
       "      <td>1.926033</td>\n",
       "      <td>47870.839844</td>\n",
       "      <td>47370.008285</td>\n",
       "      <td>496.337463</td>\n",
       "      <td>28.336977</td>\n",
       "      <td>1.926034</td>\n",
       "    </tr>\n",
       "    <tr>\n",
       "      <th>1</th>\n",
       "      <td>192.091949</td>\n",
       "      <td>16.594225</td>\n",
       "      <td>9.035784</td>\n",
       "      <td>37407.832031</td>\n",
       "      <td>36907.687972</td>\n",
       "      <td>192.094498</td>\n",
       "      <td>16.632273</td>\n",
       "      <td>9.035781</td>\n",
       "    </tr>\n",
       "    <tr>\n",
       "      <th>2</th>\n",
       "      <td>204.121979</td>\n",
       "      <td>16.954967</td>\n",
       "      <td>8.494817</td>\n",
       "      <td>36476.816406</td>\n",
       "      <td>35976.445785</td>\n",
       "      <td>204.123215</td>\n",
       "      <td>17.011349</td>\n",
       "      <td>8.494816</td>\n",
       "    </tr>\n",
       "    <tr>\n",
       "      <th>3</th>\n",
       "      <td>118.085197</td>\n",
       "      <td>13.467776</td>\n",
       "      <td>8.224500</td>\n",
       "      <td>36248.109375</td>\n",
       "      <td>35747.613753</td>\n",
       "      <td>118.086433</td>\n",
       "      <td>13.758590</td>\n",
       "      <td>8.224499</td>\n",
       "    </tr>\n",
       "    <tr>\n",
       "      <th>4</th>\n",
       "      <td>144.099182</td>\n",
       "      <td>14.670256</td>\n",
       "      <td>7.181000</td>\n",
       "      <td>34877.378906</td>\n",
       "      <td>34377.035628</td>\n",
       "      <td>144.101120</td>\n",
       "      <td>14.669243</td>\n",
       "      <td>7.181000</td>\n",
       "    </tr>\n",
       "    <tr>\n",
       "      <th>...</th>\n",
       "      <td>...</td>\n",
       "      <td>...</td>\n",
       "      <td>...</td>\n",
       "      <td>...</td>\n",
       "      <td>...</td>\n",
       "      <td>...</td>\n",
       "      <td>...</td>\n",
       "      <td>...</td>\n",
       "    </tr>\n",
       "    <tr>\n",
       "      <th>12864</th>\n",
       "      <td>582.417297</td>\n",
       "      <td>30.783487</td>\n",
       "      <td>2.312300</td>\n",
       "      <td>502.000000</td>\n",
       "      <td>1.027358</td>\n",
       "      <td>582.417297</td>\n",
       "      <td>30.996725</td>\n",
       "      <td>2.312300</td>\n",
       "    </tr>\n",
       "    <tr>\n",
       "      <th>12865</th>\n",
       "      <td>611.250916</td>\n",
       "      <td>28.739271</td>\n",
       "      <td>1.037067</td>\n",
       "      <td>1451.595947</td>\n",
       "      <td>1.018677</td>\n",
       "      <td>611.247253</td>\n",
       "      <td>28.496101</td>\n",
       "      <td>1.037066</td>\n",
       "    </tr>\n",
       "    <tr>\n",
       "      <th>12866</th>\n",
       "      <td>758.666321</td>\n",
       "      <td>35.593407</td>\n",
       "      <td>2.505433</td>\n",
       "      <td>731.699463</td>\n",
       "      <td>1.014221</td>\n",
       "      <td>758.661865</td>\n",
       "      <td>35.406212</td>\n",
       "      <td>2.505433</td>\n",
       "    </tr>\n",
       "    <tr>\n",
       "      <th>12867</th>\n",
       "      <td>118.085197</td>\n",
       "      <td>13.588024</td>\n",
       "      <td>10.233833</td>\n",
       "      <td>1418.360596</td>\n",
       "      <td>1.007446</td>\n",
       "      <td>118.085907</td>\n",
       "      <td>13.693040</td>\n",
       "      <td>10.233833</td>\n",
       "    </tr>\n",
       "    <tr>\n",
       "      <th>12868</th>\n",
       "      <td>634.256470</td>\n",
       "      <td>30.302496</td>\n",
       "      <td>5.712467</td>\n",
       "      <td>912.363647</td>\n",
       "      <td>1.002197</td>\n",
       "      <td>634.258362</td>\n",
       "      <td>30.128944</td>\n",
       "      <td>5.712467</td>\n",
       "    </tr>\n",
       "  </tbody>\n",
       "</table>\n",
       "<p>12869 rows × 8 columns</p>\n",
       "</div>"
      ],
      "text/plain": [
       "               mz  drift_time  retention_time     intensity   persistence  \\\n",
       "0      496.335480   28.378529        1.926033  47870.839844  47370.008285   \n",
       "1      192.091949   16.594225        9.035784  37407.832031  36907.687972   \n",
       "2      204.121979   16.954967        8.494817  36476.816406  35976.445785   \n",
       "3      118.085197   13.467776        8.224500  36248.109375  35747.613753   \n",
       "4      144.099182   14.670256        7.181000  34877.378906  34377.035628   \n",
       "...           ...         ...             ...           ...           ...   \n",
       "12864  582.417297   30.783487        2.312300    502.000000      1.027358   \n",
       "12865  611.250916   28.739271        1.037067   1451.595947      1.018677   \n",
       "12866  758.666321   35.593407        2.505433    731.699463      1.014221   \n",
       "12867  118.085197   13.588024       10.233833   1418.360596      1.007446   \n",
       "12868  634.256470   30.302496        5.712467    912.363647      1.002197   \n",
       "\n",
       "       mz_weighted  drift_time_weighted  retention_time_weighted  \n",
       "0       496.337463            28.336977                 1.926034  \n",
       "1       192.094498            16.632273                 9.035781  \n",
       "2       204.123215            17.011349                 8.494816  \n",
       "3       118.086433            13.758590                 8.224499  \n",
       "4       144.101120            14.669243                 7.181000  \n",
       "...            ...                  ...                      ...  \n",
       "12864   582.417297            30.996725                 2.312300  \n",
       "12865   611.247253            28.496101                 1.037066  \n",
       "12866   758.661865            35.406212                 2.505433  \n",
       "12867   118.085907            13.693040                10.233833  \n",
       "12868   634.258362            30.128944                 5.712467  \n",
       "\n",
       "[12869 rows x 8 columns]"
      ]
     },
     "execution_count": 7,
     "metadata": {},
     "output_type": "execute_result"
    }
   ],
   "source": [
    "%%time\n",
    "# Perform peak detection\n",
    "ms1_peaks = deimos.peakpick.persistent_homology(ms1, index=index,\n",
    "                                                dims=['mz', 'drift_time', 'retention_time'],\n",
    "                                                radius=[2, 10, 0])\n",
    "\n",
    "# Sort by persistence\n",
    "ms1_peaks = ms1_peaks.sort_values(by='persistence', ascending=False).reset_index(drop=True)\n",
    "ms1_peaks"
   ]
  },
  {
   "cell_type": "markdown",
   "id": "6259e071-8ea7-4b97-bdd6-1e20f3fadb6c",
   "metadata": {},
   "source": [
    "The `persistence` column indicates the \"height\" of a given feature relative to the filtration. \n",
    "Higher values indicate greater prominence with respect to the surrounding signal."
   ]
  },
  {
   "cell_type": "markdown",
   "id": "4c66c85b-3040-40dd-8f04-b1aea10d2601",
   "metadata": {},
   "source": [
    "## Maximum Filtration"
   ]
  },
  {
   "cell_type": "markdown",
   "id": "464b70f6-ce24-40dd-b03e-539208e45897",
   "metadata": {},
   "source": [
    "The version of DEIMoS published in Analytical Chemistry implements an N-dimensional maximum filter from [scipy.ndimage](https://docs.scipy.org/doc/scipy/reference/ndimage.html) that convolves the instrument signal with a structuring element, also known as a kernel, and compares the result against the input array to identify local maxima as candidate features or peaks.\n",
    "To demonstrate, we will operate on a subset of 2D data to minimize memory usage and computation time."
   ]
  },
  {
   "cell_type": "code",
   "execution_count": 8,
   "id": "b1cedbd1-e0bb-406e-836a-d3737700813d",
   "metadata": {},
   "outputs": [],
   "source": [
    "# Load data, excluding scanid column\n",
    "ms1 = deimos.load('example_data.h5', key='ms1', columns=['mz', 'drift_time', 'retention_time', 'intensity'])\n",
    "\n",
    "# Sum over retention time\n",
    "ms1_2d = deimos.collapse(ms1, keep=['mz', 'drift_time'])"
   ]
  },
  {
   "cell_type": "code",
   "execution_count": 9,
   "id": "60f34d7f-83f6-4821-a428-7605054dce4f",
   "metadata": {},
   "outputs": [
    {
     "name": "stdout",
     "output_type": "stream",
     "text": [
      "CPU times: user 17.6 s, sys: 3.67 s, total: 21.3 s\n",
      "Wall time: 22.2 s\n"
     ]
    }
   ],
   "source": [
    "%%time\n",
    "# Perform peak detection\n",
    "ms1_peaks = deimos.peakpick.local_maxima(ms1_2d, dims=['mz', 'drift_time'], bins=[37, 9])"
   ]
  },
  {
   "cell_type": "markdown",
   "id": "5b984113-5c3a-4696-bf0a-5bb28a6e0b17",
   "metadata": {},
   "source": [
    "### Selecting Kernel Size"
   ]
  },
  {
   "cell_type": "markdown",
   "id": "c5064150-bbcc-4bc3-a9da-b9d51a7557f4",
   "metadata": {},
   "source": [
    "Key to this process is the selection of kernel size, which can vary by instrument, dataset, and even compound.\n",
    "For example, in LC-IMS-MS/MS data, peak width increases with increasing *m/z* and drift time, and also varies in retention time. \n",
    "Ideally, the kernel would be the same size as the N-dimensional peak (i.e. wavelets), though computational efficiency considerations for high-dimensional data currently limit the ability to dynamically adjust kernel size.\n",
    "Thus, the selected kernel size should be representative of likely features of interest."
   ]
  },
  {
   "cell_type": "markdown",
   "id": "7114cf62-95e5-4aef-953b-dd8d39f56516",
   "metadata": {},
   "source": [
    "This process is exploratory, and selections can be further refined pending an initial processing of the data.\n",
    "To start, we will get a sense of our data by visualizing a high-intensity feature."
   ]
  },
  {
   "cell_type": "code",
   "execution_count": 10,
   "id": "0d3bfcc7-fc7b-4601-9ff7-3d80c018d5af",
   "metadata": {},
   "outputs": [
    {
     "data": {
      "image/png": "[encoded data removed]",
      "text/plain": [
       "<Figure size 960x570 with 9 Axes>"
      ]
     },
     "metadata": {},
     "output_type": "display_data"
    }
   ],
   "source": [
    "# Subset to lower mass range\n",
    "ms1_ss = deimos.slice(ms1, by='mz', low=150, high=250)\n",
    "\n",
    "# Get maximal data point\n",
    "mz_i, dt_i, rt_i, intensity_i = ms1_ss.loc[ms1_ss['intensity'] == ms1_ss['intensity'].max(), :].round(1).values[0]\n",
    "\n",
    "# Subset the raw data\n",
    "feature = deimos.slice(ms1,\n",
    "                       by=['mz', 'drift_time', 'retention_time'],\n",
    "                       low=[mz_i - 0.01, dt_i - 0.6, rt_i - 0.3],\n",
    "                       high=[mz_i + 0.15, dt_i + 0.6, rt_i + 0.3])\n",
    "\n",
    "# Visualize\n",
    "deimos.plot.multipanel(feature, dpi=150)\n",
    "plt.tight_layout()\n",
    "plt.show()"
   ]
  },
  {
   "cell_type": "code",
   "execution_count": 11,
   "id": "d03f0afd-6911-4047-b58f-0c5b931abc00",
   "metadata": {},
   "outputs": [
    {
     "name": "stdout",
     "output_type": "stream",
     "text": [
      "mz:\t\t32\n",
      "drift_time:\t10\n",
      "retention_time:\t14\n"
     ]
    }
   ],
   "source": [
    "print('{}:\\t\\t{}'.format('mz', len(feature['mz'].unique())))\n",
    "print('{}:\\t{}'.format('drift_time', len(feature['drift_time'].unique())))\n",
    "print('{}:\\t{}'.format('retention_time', len(feature['retention_time'].unique())))"
   ]
  },
  {
   "cell_type": "markdown",
   "id": "0b049331-8c61-40b0-8e7c-7708242e97a1",
   "metadata": {},
   "source": [
    "The number of sampled data points in each dimension informs selection of suitable peak detection parameters, in this case 32 values in *m/z*, 10 values in drift time, and 14 values in retention time. \n",
    "For the kernel to be centered on each \"voxel\", however, selections must be odd. \n",
    "Due to the multidimensional nature of the data, kernel size need not be exact: two features need only be separated in one dimension, not all dimensions simultaneously."
   ]
  },
  {
   "cell_type": "markdown",
   "id": "bfc0aec9-37e6-4fd4-9450-dec7a04663d2",
   "metadata": {},
   "source": [
    "### Partitioning"
   ]
  },
  {
   "cell_type": "markdown",
   "id": "b916becc-f7b7-4924-9ae8-4968635600a8",
   "metadata": {},
   "source": [
    "This dataset is comprised of almost 200,000 unique *m/z* values, 416 unique drift times, and 568 unique retention times.\n",
    "In order to process the data by N-dimensional filter convolution, the data frame-based coordinate format must be converted into a dense array. \n",
    "In this case, a dense array would comprise 4.7E9 cells and, for 32-bit intensities, require approximately 174 GB of memory. "
   ]
  },
  {
   "cell_type": "code",
   "execution_count": 12,
   "id": "d17f18f0-35e6-4530-9766-dcc061072f20",
   "metadata": {},
   "outputs": [
    {
     "name": "stdout",
     "output_type": "stream",
     "text": [
      "mz:\t\t197408\n",
      "drift_time:\t416\n",
      "retention_time:\t568\n"
     ]
    }
   ],
   "source": [
    "print('{}:\\t\\t{}'.format('mz', len(ms1['mz'].unique())))\n",
    "print('{}:\\t{}'.format('drift_time', len(ms1['drift_time'].unique())))\n",
    "print('{}:\\t{}'.format('retention_time', len(ms1['retention_time'].unique())))"
   ]
  },
  {
   "cell_type": "markdown",
   "id": "b2e013c4-d963-4af7-b196-45ad7030d515",
   "metadata": {},
   "source": [
    "This is of course not tenable for many workstations, necessitating a partitioning utility by which the input may be split along a given dimension, each partition processed separately. \n",
    "Here, we create a `Partitions` object to divide the *m/z* dimension into chunks of 1000 unique values, with a partition overlap of 0.2 Da to ameliorate artifacts arising from artificial partition \"edges\".\n",
    "Next, its `map` method is invoked to apply peak detection to each partition."
   ]
  },
  {
   "cell_type": "markdown",
   "id": "edac66fa-9a3b-431f-b16d-c847f9331a5d",
   "metadata": {},
   "source": [
    "The `processes` flag may also be specified to spread the computational load over multiple cores.\n",
    "Memory footprint scales linearly with number of processes.\n",
    "Note that we will not observe any performance improvement for this 2D example case."
   ]
  },
  {
   "cell_type": "code",
   "execution_count": 13,
   "id": "7bfa8d39-59b2-45fd-9c74-a7fd20967df8",
   "metadata": {},
   "outputs": [
    {
     "name": "stdout",
     "output_type": "stream",
     "text": [
      "CPU times: user 19.2 s, sys: 11.5 s, total: 30.7 s\n",
      "Wall time: 36.8 s\n"
     ]
    }
   ],
   "source": [
    "%%time\n",
    "# Partition the data\n",
    "partitions = deimos.partition(ms1_2d, split_on='mz', size=10000, overlap=0.5)\n",
    "\n",
    "# Map peak detection over partitions\n",
    "ms1_peaks_partitioned = partitions.map(deimos.peakpick.local_maxima,\n",
    "                                       dims=['mz', 'drift_time'],\n",
    "                                       bins=[37, 9],\n",
    "                                       processes=8)"
   ]
  },
  {
   "cell_type": "markdown",
   "id": "f0cc3c75-8f71-494a-8231-7e4d8fe5a941",
   "metadata": {},
   "source": [
    "With `overlap` selected appropriately, the partitioned result should be identical to the previous result."
   ]
  },
  {
   "cell_type": "code",
   "execution_count": 14,
   "id": "23c5f2f4-ec88-47e2-a943-44cedd1dfde5",
   "metadata": {},
   "outputs": [
    {
     "data": {
      "text/plain": [
       "True"
      ]
     },
     "execution_count": 14,
     "metadata": {},
     "output_type": "execute_result"
    }
   ],
   "source": [
    "all(ms1_peaks_partitioned == ms1_peaks)"
   ]
  },
  {
   "cell_type": "markdown",
   "id": "d38db503-2ad7-4f53-be30-b9b234e3e404",
   "metadata": {},
   "source": [
    "### Kernel Scaling"
   ]
  },
  {
   "cell_type": "markdown",
   "id": "9dbf3a4b-481c-4d1f-9a0f-8bb6c150063e",
   "metadata": {},
   "source": [
    "Peak width in *m/z* and drift time increase with *m/z*. \n",
    "In the example data used here, the sample inverval in *m/z* also increases with increasing *m/z*.\n",
    "This means that our kernel effectively \"grows\" as *m/z* increases, as kernel is selected by number of such intervals rather than an *m/z* range."
   ]
  },
  {
   "cell_type": "code",
   "execution_count": 15,
   "id": "835d4ad2-076d-4fca-93af-bf8f88b492ab",
   "metadata": {},
   "outputs": [
    {
     "data": {
      "image/png": "[encoded data removed]",
      "text/plain": [
       "<Figure size 900x600 with 1 Axes>"
      ]
     },
     "metadata": {
      "needs_background": "light"
     },
     "output_type": "display_data"
    }
   ],
   "source": [
    "# Unique m/z values\n",
    "mz_unq = np.unique(ms1_2d['mz'])\n",
    "\n",
    "# m/z sample intervals\n",
    "mz_diff = np.diff(mz_unq)\n",
    "\n",
    "# Visualize\n",
    "plt.figure(dpi=150)\n",
    "plt.plot(mz_unq[1:], mz_diff)\n",
    "plt.xlabel('m/z', fontweight='bold')\n",
    "plt.ylabel('Interval', fontweight='bold')\n",
    "plt.show()"
   ]
  },
  {
   "cell_type": "markdown",
   "id": "e2e6c3aa-b4b7-4958-a6b7-f9bccebfb538",
   "metadata": {},
   "source": [
    "However, the drift time sample interval is constant throughout the acquisition. \n",
    "To accommodate increasing peak width in drift time, we can scale the kernel in that dimension by the *m/z* per partition, scaled by a reference resolution (i.e. the minimum interval in the above).\n",
    "Thus, the drift time kernel size of the first partition will be scaled by a factor of 1 (no change), the last by a factor of ~1.4.\n",
    "This represents an advanced usage scenario and should only be considered with sufficient justification. \n",
    "That is, knowledge of sample intervals in each dimension, peak widths as a function of these sample intervals, and whether the relationship(s) scale linearly."
   ]
  },
  {
   "cell_type": "code",
   "execution_count": 16,
   "id": "82974c94-a147-4ccc-bcc1-eea32e8bb9cc",
   "metadata": {},
   "outputs": [
    {
     "name": "stdout",
     "output_type": "stream",
     "text": [
      "CPU times: user 17.3 s, sys: 8.31 s, total: 25.6 s\n",
      "Wall time: 30.1 s\n"
     ]
    }
   ],
   "source": [
    "%%time\n",
    "# Partition the data\n",
    "partitions = deimos.partition(ms1_2d, split_on='mz', size=10000, overlap=0.5)\n",
    "\n",
    "# Map peak detection over partitions\n",
    "ms1_peaks_partitioned = partitions.map(deimos.peakpick.local_maxima,\n",
    "                                       dims=['mz', 'drift_time'],\n",
    "                                       bins=[37, 9],\n",
    "                                       scale_by='mz',\n",
    "                                       ref_res=mz_diff.min(),\n",
    "                                       scale=['drift_time'],\n",
    "                                       processes=8)"
   ]
  },
  {
   "cell_type": "markdown",
   "id": "c4fb7d55-48fb-4832-858b-73515ba12b45",
   "metadata": {},
   "source": [
    "Note that, though we have ignored retention time, its sample interval in these data is also constant.\n",
    "However, there is no discernable relationship with *m/z*, thus barring use of this scaling functionality.\n",
    "In such cases, simply determining an average, representative kernel size is typically sufficient."
   ]
  }
 ],
 "metadata": {
  "kernelspec": {
   "display_name": "Python 3 (ipykernel)",
   "language": "python",
   "name": "python3"
  },
  "language_info": {
   "codemirror_mode": {
    "name": "ipython",
    "version": 3
   },
   "file_extension": ".py",
   "mimetype": "text/x-python",
   "name": "python",
   "nbconvert_exporter": "python",
   "pygments_lexer": "ipython3",
   "version": "3.7.12"
  }
 },
 "nbformat": 4,
 "nbformat_minor": 5
}
