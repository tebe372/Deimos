{
 "cells": [
  {
   "cell_type": "markdown",
   "id": "63186231-91ee-4b69-8a82-41d5969a83e0",
   "metadata": {},
   "source": [
    "# Peak Detection"
   ]
  },
  {
   "cell_type": "markdown",
   "id": "afe4c539-a1a7-431c-bcca-2e31a41c8c92",
   "metadata": {},
   "source": [
    "Feature detection, also referred to as peak detection, is the process by which local maxima that fulfill certain criteria (such as sufficient signal-to-noise ratio) are located in the signal acquired by a given analytical instrument. \n",
    "This process results in “features” associated with the analysis of molecular analytes from the sample under study or from chemical, instrument, or random noise.\n",
    "Typically, feature detection involves a mass dimension (*m/z*) as well as one or more separation dimensions (e.g. drift and/or retention time), the latter offering distinction among isobaric/isotopic features."
   ]
  },
  {
   "cell_type": "markdown",
   "id": "5d57f8ac-dae8-44d8-9fde-6dfa70788c54",
   "metadata": {},
   "source": [
    "## Persistent Homology"
   ]
  },
  {
   "cell_type": "markdown",
   "id": "c3c741d9-23af-4c74-8b1e-9b8f83b617cc",
   "metadata": {},
   "source": [
    "We have recently implemented a peak detection method that leverages persistent homology. Advantages are that it runs faster, uses much less memory, has a measure of signal-to-noise (persistence) built into the method, does not depend on any user-defined parameters, and does not require partitioning of the data to keep the processing tractable. \n",
    "We recommend use of this method, though we will continue to make the convolution-based approach available."
   ]
  },
  {
   "cell_type": "code",
   "execution_count": 1,
   "id": "ab3ca8c0-469a-41eb-acfa-902ee43b3466",
   "metadata": {},
   "outputs": [],
   "source": [
    "import deimos\n",
    "import numpy as np\n",
    "import matplotlib.pyplot as plt"
   ]
  },
  {
   "cell_type": "code",
   "execution_count": 2,
   "id": "2ec149de-cc0c-4548-845d-bfa906a16274",
   "metadata": {},
   "outputs": [],
   "source": [
    "# load data, excluding scanid column\n",
    "ms1 = deimos.load('example_data.h5', key='ms1', columns=['mz', 'drift_time', 'retention_time', 'intensity'])"
   ]
  },
  {
   "cell_type": "code",
   "execution_count": 3,
   "id": "a9ceb9a7-cb68-40b9-90f5-c9e374d55cff",
   "metadata": {},
   "outputs": [],
   "source": [
    "# nominal threshold\n",
    "ms1 = deimos.threshold(ms1, threshold=128)"
   ]
  },
  {
   "cell_type": "code",
   "execution_count": 4,
   "id": "90d61e06-42f8-4a44-aeeb-f89351b350ec",
   "metadata": {},
   "outputs": [
    {
     "name": "stdout",
     "output_type": "stream",
     "text": [
      "CPU times: user 1min 17s, sys: 7.06 s, total: 1min 24s\n",
      "Wall time: 1min 24s\n"
     ]
    }
   ],
   "source": [
    "%%time\n",
    "# perform peak detection\n",
    "ms1_peaks = deimos.peakpick.persistent_homology(ms1, dims=['mz', 'drift_time', 'retention_time'])"
   ]
  },
  {
   "cell_type": "code",
   "execution_count": 5,
   "id": "b09efe10-0582-41bd-bdba-8e7766684bec",
   "metadata": {},
   "outputs": [
    {
     "data": {
      "text/html": [
       "<div>\n",
       "<style scoped>\n",
       "    .dataframe tbody tr th:only-of-type {\n",
       "        vertical-align: middle;\n",
       "    }\n",
       "\n",
       "    .dataframe tbody tr th {\n",
       "        vertical-align: top;\n",
       "    }\n",
       "\n",
       "    .dataframe thead th {\n",
       "        text-align: right;\n",
       "    }\n",
       "</style>\n",
       "<table border=\"1\" class=\"dataframe\">\n",
       "  <thead>\n",
       "    <tr style=\"text-align: right;\">\n",
       "      <th></th>\n",
       "      <th>mz</th>\n",
       "      <th>drift_time</th>\n",
       "      <th>retention_time</th>\n",
       "      <th>intensity</th>\n",
       "      <th>persistence</th>\n",
       "    </tr>\n",
       "  </thead>\n",
       "  <tbody>\n",
       "    <tr>\n",
       "      <th>0</th>\n",
       "      <td>496.335480</td>\n",
       "      <td>28.378528</td>\n",
       "      <td>1.926033</td>\n",
       "      <td>55138</td>\n",
       "      <td>55009.753894</td>\n",
       "    </tr>\n",
       "    <tr>\n",
       "      <th>1</th>\n",
       "      <td>204.121979</td>\n",
       "      <td>16.954968</td>\n",
       "      <td>8.494817</td>\n",
       "      <td>54361</td>\n",
       "      <td>54232.718737</td>\n",
       "    </tr>\n",
       "    <tr>\n",
       "      <th>2</th>\n",
       "      <td>144.099182</td>\n",
       "      <td>14.670256</td>\n",
       "      <td>7.258183</td>\n",
       "      <td>53635</td>\n",
       "      <td>53506.230456</td>\n",
       "    </tr>\n",
       "    <tr>\n",
       "      <th>3</th>\n",
       "      <td>162.112061</td>\n",
       "      <td>15.511992</td>\n",
       "      <td>9.383617</td>\n",
       "      <td>53079</td>\n",
       "      <td>52950.457019</td>\n",
       "    </tr>\n",
       "    <tr>\n",
       "      <th>4</th>\n",
       "      <td>118.085197</td>\n",
       "      <td>13.708272</td>\n",
       "      <td>8.224500</td>\n",
       "      <td>50966</td>\n",
       "      <td>50837.597644</td>\n",
       "    </tr>\n",
       "    <tr>\n",
       "      <th>...</th>\n",
       "      <td>...</td>\n",
       "      <td>...</td>\n",
       "      <td>...</td>\n",
       "      <td>...</td>\n",
       "      <td>...</td>\n",
       "    </tr>\n",
       "    <tr>\n",
       "      <th>425649</th>\n",
       "      <td>550.337219</td>\n",
       "      <td>29.581008</td>\n",
       "      <td>3.278117</td>\n",
       "      <td>129</td>\n",
       "      <td>0.000277</td>\n",
       "    </tr>\n",
       "    <tr>\n",
       "      <th>425650</th>\n",
       "      <td>767.572754</td>\n",
       "      <td>44.491760</td>\n",
       "      <td>4.050817</td>\n",
       "      <td>129</td>\n",
       "      <td>0.000232</td>\n",
       "    </tr>\n",
       "    <tr>\n",
       "      <th>425651</th>\n",
       "      <td>1404.929321</td>\n",
       "      <td>29.581008</td>\n",
       "      <td>13.788867</td>\n",
       "      <td>129</td>\n",
       "      <td>0.000201</td>\n",
       "    </tr>\n",
       "    <tr>\n",
       "      <th>425652</th>\n",
       "      <td>256.260956</td>\n",
       "      <td>21.885136</td>\n",
       "      <td>15.643833</td>\n",
       "      <td>129</td>\n",
       "      <td>0.000171</td>\n",
       "    </tr>\n",
       "    <tr>\n",
       "      <th>425653</th>\n",
       "      <td>583.319275</td>\n",
       "      <td>29.581008</td>\n",
       "      <td>5.171667</td>\n",
       "      <td>129</td>\n",
       "      <td>0.000155</td>\n",
       "    </tr>\n",
       "  </tbody>\n",
       "</table>\n",
       "<p>425654 rows × 5 columns</p>\n",
       "</div>"
      ],
      "text/plain": [
       "                 mz  drift_time  retention_time  intensity   persistence\n",
       "0        496.335480   28.378528        1.926033      55138  55009.753894\n",
       "1        204.121979   16.954968        8.494817      54361  54232.718737\n",
       "2        144.099182   14.670256        7.258183      53635  53506.230456\n",
       "3        162.112061   15.511992        9.383617      53079  52950.457019\n",
       "4        118.085197   13.708272        8.224500      50966  50837.597644\n",
       "...             ...         ...             ...        ...           ...\n",
       "425649   550.337219   29.581008        3.278117        129      0.000277\n",
       "425650   767.572754   44.491760        4.050817        129      0.000232\n",
       "425651  1404.929321   29.581008       13.788867        129      0.000201\n",
       "425652   256.260956   21.885136       15.643833        129      0.000171\n",
       "425653   583.319275   29.581008        5.171667        129      0.000155\n",
       "\n",
       "[425654 rows x 5 columns]"
      ]
     },
     "execution_count": 5,
     "metadata": {},
     "output_type": "execute_result"
    }
   ],
   "source": [
    "ms1_peaks = ms1_peaks.sort_values(by='persistence', ascending=False).reset_index(drop=True)\n",
    "ms1_peaks"
   ]
  },
  {
   "cell_type": "markdown",
   "id": "6259e071-8ea7-4b97-bdd6-1e20f3fadb6c",
   "metadata": {},
   "source": [
    "The `persistence` column indicates the \"height\" of a given feature relative to the filtration. Higher values indicate greater prominence with respect to the surrounding signal.\n",
    "To normalize persistence values, we can make them relative to each features intensity. We then threshold to downselect those peaks with sufficient \"persistence ratio\"."
   ]
  },
  {
   "cell_type": "code",
   "execution_count": 6,
   "id": "a54b373c-a817-436f-b0eb-a51bc0beae8c",
   "metadata": {},
   "outputs": [
    {
     "data": {
      "text/html": [
       "<div>\n",
       "<style scoped>\n",
       "    .dataframe tbody tr th:only-of-type {\n",
       "        vertical-align: middle;\n",
       "    }\n",
       "\n",
       "    .dataframe tbody tr th {\n",
       "        vertical-align: top;\n",
       "    }\n",
       "\n",
       "    .dataframe thead th {\n",
       "        text-align: right;\n",
       "    }\n",
       "</style>\n",
       "<table border=\"1\" class=\"dataframe\">\n",
       "  <thead>\n",
       "    <tr style=\"text-align: right;\">\n",
       "      <th></th>\n",
       "      <th>mz</th>\n",
       "      <th>drift_time</th>\n",
       "      <th>retention_time</th>\n",
       "      <th>intensity</th>\n",
       "      <th>persistence</th>\n",
       "      <th>persistence_ratio</th>\n",
       "    </tr>\n",
       "  </thead>\n",
       "  <tbody>\n",
       "    <tr>\n",
       "      <th>0</th>\n",
       "      <td>496.335480</td>\n",
       "      <td>28.378528</td>\n",
       "      <td>1.926033</td>\n",
       "      <td>55138</td>\n",
       "      <td>55009.753894</td>\n",
       "      <td>0.997674</td>\n",
       "    </tr>\n",
       "    <tr>\n",
       "      <th>1</th>\n",
       "      <td>204.121979</td>\n",
       "      <td>16.954968</td>\n",
       "      <td>8.494817</td>\n",
       "      <td>54361</td>\n",
       "      <td>54232.718737</td>\n",
       "      <td>0.997640</td>\n",
       "    </tr>\n",
       "    <tr>\n",
       "      <th>2</th>\n",
       "      <td>144.099182</td>\n",
       "      <td>14.670256</td>\n",
       "      <td>7.258183</td>\n",
       "      <td>53635</td>\n",
       "      <td>53506.230456</td>\n",
       "      <td>0.997599</td>\n",
       "    </tr>\n",
       "    <tr>\n",
       "      <th>3</th>\n",
       "      <td>162.112061</td>\n",
       "      <td>15.511992</td>\n",
       "      <td>9.383617</td>\n",
       "      <td>53079</td>\n",
       "      <td>52950.457019</td>\n",
       "      <td>0.997578</td>\n",
       "    </tr>\n",
       "    <tr>\n",
       "      <th>4</th>\n",
       "      <td>118.085197</td>\n",
       "      <td>13.708272</td>\n",
       "      <td>8.224500</td>\n",
       "      <td>50966</td>\n",
       "      <td>50837.597644</td>\n",
       "      <td>0.997481</td>\n",
       "    </tr>\n",
       "    <tr>\n",
       "      <th>...</th>\n",
       "      <td>...</td>\n",
       "      <td>...</td>\n",
       "      <td>...</td>\n",
       "      <td>...</td>\n",
       "      <td>...</td>\n",
       "      <td>...</td>\n",
       "    </tr>\n",
       "    <tr>\n",
       "      <th>2405</th>\n",
       "      <td>264.213043</td>\n",
       "      <td>19.720672</td>\n",
       "      <td>18.233217</td>\n",
       "      <td>514</td>\n",
       "      <td>385.620532</td>\n",
       "      <td>0.750234</td>\n",
       "    </tr>\n",
       "    <tr>\n",
       "      <th>2406</th>\n",
       "      <td>312.113739</td>\n",
       "      <td>20.442160</td>\n",
       "      <td>5.442150</td>\n",
       "      <td>514</td>\n",
       "      <td>385.548205</td>\n",
       "      <td>0.750094</td>\n",
       "    </tr>\n",
       "    <tr>\n",
       "      <th>2407</th>\n",
       "      <td>230.132690</td>\n",
       "      <td>18.758688</td>\n",
       "      <td>4.050817</td>\n",
       "      <td>514</td>\n",
       "      <td>385.515673</td>\n",
       "      <td>0.750030</td>\n",
       "    </tr>\n",
       "    <tr>\n",
       "      <th>2408</th>\n",
       "      <td>110.057785</td>\n",
       "      <td>13.227280</td>\n",
       "      <td>16.571383</td>\n",
       "      <td>513</td>\n",
       "      <td>384.997424</td>\n",
       "      <td>0.750482</td>\n",
       "    </tr>\n",
       "    <tr>\n",
       "      <th>2409</th>\n",
       "      <td>211.140198</td>\n",
       "      <td>17.315712</td>\n",
       "      <td>5.635283</td>\n",
       "      <td>513</td>\n",
       "      <td>384.870227</td>\n",
       "      <td>0.750234</td>\n",
       "    </tr>\n",
       "  </tbody>\n",
       "</table>\n",
       "<p>2410 rows × 6 columns</p>\n",
       "</div>"
      ],
      "text/plain": [
       "              mz  drift_time  retention_time  intensity   persistence  \\\n",
       "0     496.335480   28.378528        1.926033      55138  55009.753894   \n",
       "1     204.121979   16.954968        8.494817      54361  54232.718737   \n",
       "2     144.099182   14.670256        7.258183      53635  53506.230456   \n",
       "3     162.112061   15.511992        9.383617      53079  52950.457019   \n",
       "4     118.085197   13.708272        8.224500      50966  50837.597644   \n",
       "...          ...         ...             ...        ...           ...   \n",
       "2405  264.213043   19.720672       18.233217        514    385.620532   \n",
       "2406  312.113739   20.442160        5.442150        514    385.548205   \n",
       "2407  230.132690   18.758688        4.050817        514    385.515673   \n",
       "2408  110.057785   13.227280       16.571383        513    384.997424   \n",
       "2409  211.140198   17.315712        5.635283        513    384.870227   \n",
       "\n",
       "      persistence_ratio  \n",
       "0              0.997674  \n",
       "1              0.997640  \n",
       "2              0.997599  \n",
       "3              0.997578  \n",
       "4              0.997481  \n",
       "...                 ...  \n",
       "2405           0.750234  \n",
       "2406           0.750094  \n",
       "2407           0.750030  \n",
       "2408           0.750482  \n",
       "2409           0.750234  \n",
       "\n",
       "[2410 rows x 6 columns]"
      ]
     },
     "execution_count": 6,
     "metadata": {},
     "output_type": "execute_result"
    }
   ],
   "source": [
    "ms1_peaks['persistence_ratio'] = ms1_peaks['persistence'] / ms1_peaks['intensity']\n",
    "ms1_peaks = deimos.threshold(ms1_peaks, by='persistence_ratio', threshold=0.75)\n",
    "ms1_peaks"
   ]
  },
  {
   "cell_type": "markdown",
   "id": "4c66c85b-3040-40dd-8f04-b1aea10d2601",
   "metadata": {},
   "source": [
    "## Maximum Filtration"
   ]
  },
  {
   "cell_type": "markdown",
   "id": "464b70f6-ce24-40dd-b03e-539208e45897",
   "metadata": {},
   "source": [
    "The version of DEIMoS published in Analytical Chemistry implements an N-dimensional maximum filter from [scipy.ndimage](https://docs.scipy.org/doc/scipy/reference/ndimage.html) that convolves the instrument signal with a structuring element, also known as a kernel, and compares the result against the input array to identify local maxima as candidate features or peaks.\n",
    "To demonstrate, we will operate on a subset of 2D data to minimize memory usage and computation time."
   ]
  },
  {
   "cell_type": "code",
   "execution_count": 7,
   "id": "b1cedbd1-e0bb-406e-836a-d3737700813d",
   "metadata": {},
   "outputs": [],
   "source": [
    "# load data, excluding scanid column\n",
    "ms1 = deimos.load('example_data.h5', key='ms1', columns=['mz', 'drift_time', 'retention_time', 'intensity'])\n",
    "\n",
    "# sum over retention time\n",
    "ms1_2d = deimos.collapse(ms1, keep=['mz', 'drift_time'])\n",
    "\n",
    "# take a subset in m/z\n",
    "ms1_2d = deimos.slice(ms1_2d, by='mz', low=200, high=400)"
   ]
  },
  {
   "cell_type": "code",
   "execution_count": 8,
   "id": "60f34d7f-83f6-4821-a428-7605054dce4f",
   "metadata": {},
   "outputs": [
    {
     "name": "stdout",
     "output_type": "stream",
     "text": [
      "CPU times: user 1.92 s, sys: 198 ms, total: 2.12 s\n",
      "Wall time: 2.13 s\n"
     ]
    }
   ],
   "source": [
    "%%time\n",
    "# perform peak detection\n",
    "ms1_peaks = deimos.peakpick.local_maxima(ms1_2d, dims=['mz', 'drift_time'], bins=[37, 9])"
   ]
  },
  {
   "cell_type": "markdown",
   "id": "5b984113-5c3a-4696-bf0a-5bb28a6e0b17",
   "metadata": {},
   "source": [
    "### Selecting Kernel Size"
   ]
  },
  {
   "cell_type": "markdown",
   "id": "c5064150-bbcc-4bc3-a9da-b9d51a7557f4",
   "metadata": {},
   "source": [
    "Key to this process is the selection of kernel size, which can vary by instrument, dataset, and even compound.\n",
    "For example, in LC-IMS-MS/MS data, peak width increases with increasing *m/z* and drift time, and also varies in retention time. \n",
    "Ideally, the kernel would be the same size as the N-dimensional peak (i.e. wavelets), though computational efficiency considerations for high-dimensional data currently limit the ability to dynamically adjust kernel size.\n",
    "Thus, the selected kernel size should be representative of likely features of interest."
   ]
  },
  {
   "cell_type": "markdown",
   "id": "7114cf62-95e5-4aef-953b-dd8d39f56516",
   "metadata": {},
   "source": [
    "This process is exploratory, and selections can be further refined pending an initial processing of the data.\n",
    "To start, we will get a sense of our data by visualizing a high-intensity feature."
   ]
  },
  {
   "cell_type": "code",
   "execution_count": 9,
   "id": "0d3bfcc7-fc7b-4601-9ff7-3d80c018d5af",
   "metadata": {},
   "outputs": [
    {
     "data": {
      "image/png": "[encoded data removed]",
      "text/plain": [
       "<Figure size 960x570 with 9 Axes>"
      ]
     },
     "metadata": {},
     "output_type": "display_data"
    }
   ],
   "source": [
    "# subset to lower mass range\n",
    "ms1_ss = deimos.slice(ms1, by='mz', low=150, high=250)\n",
    "\n",
    "# get maximal data point\n",
    "mz_i, dt_i, rt_i, intensity_i = ms1_ss.loc[ms1_ss['intensity'] == ms1_ss['intensity'].max(), :].round(1).values[0]\n",
    "\n",
    "# subset the raw data\n",
    "feature = deimos.slice(ms1,\n",
    "                       by=['mz', 'drift_time', 'retention_time'],\n",
    "                       low=[mz_i - 0.01, dt_i - 0.6, rt_i - 0.3],\n",
    "                       high=[mz_i + 0.15, dt_i + 0.6, rt_i + 0.3])\n",
    "\n",
    "# visualize\n",
    "deimos.plot.multipanel(feature, dpi=150)\n",
    "plt.tight_layout()\n",
    "plt.show()"
   ]
  },
  {
   "cell_type": "code",
   "execution_count": 10,
   "id": "d03f0afd-6911-4047-b58f-0c5b931abc00",
   "metadata": {},
   "outputs": [
    {
     "name": "stdout",
     "output_type": "stream",
     "text": [
      "mz:\t\t32\n",
      "drift_time:\t10\n",
      "retention_time:\t14\n"
     ]
    }
   ],
   "source": [
    "print('{}:\\t\\t{}'.format('mz', len(feature['mz'].unique())))\n",
    "print('{}:\\t{}'.format('drift_time', len(feature['drift_time'].unique())))\n",
    "print('{}:\\t{}'.format('retention_time', len(feature['retention_time'].unique())))"
   ]
  },
  {
   "cell_type": "markdown",
   "id": "0b049331-8c61-40b0-8e7c-7708242e97a1",
   "metadata": {},
   "source": [
    "The number of sampled data points in each dimension informs selection of suitable peak detection parameters, in this case 32 values in *m/z*, 10 values in drift time, and 14 values in retention time. \n",
    "For the kernel to be centered on each \"voxel\", however, selections must be odd. \n",
    "Due to the multidimensional nature of the data, kernel size need not be exact: two features need only be separated in one dimension, not all dimensions simultaneously."
   ]
  },
  {
   "cell_type": "markdown",
   "id": "bfc0aec9-37e6-4fd4-9450-dec7a04663d2",
   "metadata": {},
   "source": [
    "### Partitioning"
   ]
  },
  {
   "cell_type": "markdown",
   "id": "b916becc-f7b7-4924-9ae8-4968635600a8",
   "metadata": {},
   "source": [
    "This dataset is comprised of almost 200,000 unique *m/z* values, 416 unique drift times, and 568 unique retention times.\n",
    "In order to process the data by N-dimensional filter convolution, the data frame-based coordinate format must be converted into a dense array. \n",
    "In this case, a dense array would comprise 4.7E9 cells and, for 32-bit intensities, require approximately 174 GB of memory. "
   ]
  },
  {
   "cell_type": "code",
   "execution_count": 11,
   "id": "d17f18f0-35e6-4530-9766-dcc061072f20",
   "metadata": {},
   "outputs": [
    {
     "name": "stdout",
     "output_type": "stream",
     "text": [
      "mz:\t\t197408\n",
      "drift_time:\t416\n",
      "retention_time:\t568\n"
     ]
    }
   ],
   "source": [
    "print('{}:\\t\\t{}'.format('mz', len(ms1['mz'].unique())))\n",
    "print('{}:\\t{}'.format('drift_time', len(ms1['drift_time'].unique())))\n",
    "print('{}:\\t{}'.format('retention_time', len(ms1['retention_time'].unique())))"
   ]
  },
  {
   "cell_type": "markdown",
   "id": "b2e013c4-d963-4af7-b196-45ad7030d515",
   "metadata": {},
   "source": [
    "This is of course not tenable for many workstations, necessitating a partitioning utility by which the input may be split along a given dimension, each partition processed separately. \n",
    "Here, we create a `Partitions` object to divide the *m/z* dimension into chunks of 1000 unique values, with a partition overlap of 0.2 Da to ameliorate artifacts arising from artificial partition \"edges\".\n",
    "Next, its `map` method is invoked to apply peak detection to each partition."
   ]
  },
  {
   "cell_type": "markdown",
   "id": "edac66fa-9a3b-431f-b16d-c847f9331a5d",
   "metadata": {},
   "source": [
    "The `processes` flag may also be specified to spread the computational load over multiple cores.\n",
    "Memory footprint scales linearly with number of processes.\n",
    "Note that we will not observe any performance gains for this 2D example case."
   ]
  },
  {
   "cell_type": "code",
   "execution_count": 12,
   "id": "7bfa8d39-59b2-45fd-9c74-a7fd20967df8",
   "metadata": {},
   "outputs": [
    {
     "name": "stdout",
     "output_type": "stream",
     "text": [
      "CPU times: user 4.12 s, sys: 426 ms, total: 4.54 s\n",
      "Wall time: 4.66 s\n"
     ]
    }
   ],
   "source": [
    "%%time\n",
    "# partition the data\n",
    "partitions = deimos.partition(ms1_2d, split_on='mz', size=1000, overlap=0.25)\n",
    "\n",
    "# map peak detection over partitions\n",
    "ms1_peaks_partitioned = partitions.map(deimos.peakpick.local_maxima,\n",
    "                                       dims=['mz', 'drift_time'],\n",
    "                                       bins=[37, 9])"
   ]
  },
  {
   "cell_type": "markdown",
   "id": "f0cc3c75-8f71-494a-8231-7e4d8fe5a941",
   "metadata": {},
   "source": [
    "With `overlap` selected appropriately, the partitioned result should be identical to the previous result."
   ]
  },
  {
   "cell_type": "code",
   "execution_count": 13,
   "id": "23c5f2f4-ec88-47e2-a943-44cedd1dfde5",
   "metadata": {},
   "outputs": [
    {
     "data": {
      "text/plain": [
       "True"
      ]
     },
     "execution_count": 13,
     "metadata": {},
     "output_type": "execute_result"
    }
   ],
   "source": [
    "all(ms1_peaks_partitioned == ms1_peaks)"
   ]
  },
  {
   "cell_type": "markdown",
   "id": "d38db503-2ad7-4f53-be30-b9b234e3e404",
   "metadata": {},
   "source": [
    "### Kernel Scaling"
   ]
  },
  {
   "cell_type": "markdown",
   "id": "9dbf3a4b-481c-4d1f-9a0f-8bb6c150063e",
   "metadata": {},
   "source": [
    "Peak width in *m/z* and drift time increase with *m/z*. \n",
    "In the example data used here, the sample inverval in *m/z* also increases with increasing *m/z*.\n",
    "This means that our kernel effectively \"grows\" as *m/z* increases, as kernel is selected by number of such intervals rather than an *m/z* range."
   ]
  },
  {
   "cell_type": "code",
   "execution_count": 14,
   "id": "835d4ad2-076d-4fca-93af-bf8f88b492ab",
   "metadata": {},
   "outputs": [
    {
     "data": {
      "image/png": "[encoded data removed]",
      "text/plain": [
       "<Figure size 900x600 with 1 Axes>"
      ]
     },
     "metadata": {
      "needs_background": "light"
     },
     "output_type": "display_data"
    }
   ],
   "source": [
    "# unique m/z values\n",
    "mz_unq = np.unique(ms1_2d['mz'])\n",
    "\n",
    "# m/z sample intervals\n",
    "mz_diff = np.diff(mz_unq)\n",
    "\n",
    "# visualize\n",
    "plt.figure(dpi=150)\n",
    "plt.plot(mz_unq[1:], mz_diff)\n",
    "plt.xlabel('m/z', fontweight='bold')\n",
    "plt.ylabel('Interval', fontweight='bold')\n",
    "plt.show()"
   ]
  },
  {
   "cell_type": "markdown",
   "id": "e2e6c3aa-b4b7-4958-a6b7-f9bccebfb538",
   "metadata": {},
   "source": [
    "However, the drift time sample interval is constant throughout the acquisition. \n",
    "To accommodate increasing peak width in drift time, we can scale the kernel in that dimension by the *m/z* per partition, scaled by a reference resolution (i.e. the minimum interval in the above).\n",
    "Thus, the drift time kernel size of the first partition will be scaled by a factor of 1 (no change), the last by a factor of ~1.4.\n",
    "This represents an advanced usage scenario and should only be considered with sufficient justification. \n",
    "That is, knowledge of sample intervals in each dimension, peak widths as a function of these sample intervals, and whether the relationship(s) scale linearly."
   ]
  },
  {
   "cell_type": "code",
   "execution_count": 15,
   "id": "82974c94-a147-4ccc-bcc1-eea32e8bb9cc",
   "metadata": {},
   "outputs": [
    {
     "name": "stdout",
     "output_type": "stream",
     "text": [
      "CPU times: user 2.79 s, sys: 306 ms, total: 3.09 s\n",
      "Wall time: 3.35 s\n"
     ]
    }
   ],
   "source": [
    "%%time\n",
    "# partition the data\n",
    "partitions = deimos.partition(ms1_2d, split_on='mz', size=1000, overlap=0.25)\n",
    "\n",
    "# map peak detection over partitions\n",
    "ms1_peaks_partitioned = partitions.map(deimos.peakpick.local_maxima,\n",
    "                                       dims=['mz', 'drift_time'],\n",
    "                                       bins=[37, 9],\n",
    "                                       scale_by='mz',\n",
    "                                       ref_res=mz_diff.min(),\n",
    "                                       scale=['drift_time'],\n",
    "                                       processes=4)"
   ]
  },
  {
   "cell_type": "markdown",
   "id": "c4fb7d55-48fb-4832-858b-73515ba12b45",
   "metadata": {},
   "source": [
    "Note that, though we have ignored retention time, its sample interval in these data is also constant.\n",
    "However, there is no discernable relationship with *m/z*, thus barring use of this scaling functionality.\n",
    "In such cases, simply determining an average, representative kernel size is typically sufficient."
   ]
  }
 ],
 "metadata": {
  "kernelspec": {
   "display_name": "Python 3 (ipykernel)",
   "language": "python",
   "name": "python3"
  },
  "language_info": {
   "codemirror_mode": {
    "name": "ipython",
    "version": 3
   },
   "file_extension": ".py",
   "mimetype": "text/x-python",
   "name": "python",
   "nbconvert_exporter": "python",
   "pygments_lexer": "ipython3",
   "version": "3.7.12"
  }
 },
 "nbformat": 4,
 "nbformat_minor": 5
}
