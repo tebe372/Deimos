{
 "cells": [
  {
   "cell_type": "markdown",
   "id": "c31324c3-30f3-4b13-b11f-c6cd6af727a9",
   "metadata": {},
   "source": [
    "# Extracted Ion"
   ]
  },
  {
   "cell_type": "markdown",
   "id": "7d448f8c-82b5-4cc5-9b7c-b2f38982a2c5",
   "metadata": {},
   "source": [
    "Coming soon!"
   ]
  },
  {
   "cell_type": "code",
   "execution_count": null,
   "id": "5d8b7830-1cb5-466e-95d4-709ebb571e83",
   "metadata": {},
   "outputs": [],
   "source": []
  }
 ],
 "metadata": {
  "kernelspec": {
   "display_name": "Python 3 (ipykernel)",
   "language": "python",
   "name": "python3"
  },
  "language_info": {
   "codemirror_mode": {
    "name": "ipython",
    "version": 3
   },
   "file_extension": ".py",
   "mimetype": "text/x-python",
   "name": "python",
   "nbconvert_exporter": "python",
   "pygments_lexer": "ipython3",
   "version": "3.7.12"
  }
 },
 "nbformat": 4,
 "nbformat_minor": 5
}
