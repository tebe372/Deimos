{
 "cells": [
  {
   "cell_type": "markdown",
   "id": "7c199a60-d151-468f-b254-ee37c9628a62",
   "metadata": {},
   "source": [
    "# CCS Calibration"
   ]
  },
  {
   "cell_type": "markdown",
   "id": "c60b7793-414c-4999-9d26-8bdeb2b6418a",
   "metadata": {},
   "source": [
    "To yield collision cross section (CCS) from ion mobility spectrometry (IMS) drift time, a calibration must be performed using a standard tune mix containing compounds of known CCS. Drift times, or analogous measurement, such as inverse reduced mobility in trapped ion mobility spectrometry (TIMS), are reported by the instrument and calibrated against the known CCS values to yield calibration coefficients `beta` and `tfix`."
   ]
  },
  {
   "cell_type": "markdown",
   "id": "fcb77b1e-b6ce-4cee-90cb-9243041a746a",
   "metadata": {},
   "source": [
    "## Drift Tube and Trapped IMS"
   ]
  },
  {
   "cell_type": "markdown",
   "id": "10c5fd28-013b-438b-855b-20610932469b",
   "metadata": {},
   "source": [
    "For drift tube and trapped IMS, the single-field calibration equation detailed in Stow et al. 2017 is implemented.\n",
    "Provided reference *m/z* and CCS, buffer gass mass (typically N2), as well as experimental drift time (or analogous measurement), the calibration is performed as follows."
   ]
  },
  {
   "cell_type": "code",
   "execution_count": 1,
   "id": "12632946-3b8c-4b50-b965-5e3619acac21",
   "metadata": {},
   "outputs": [],
   "source": [
    "import deimos"
   ]
  },
  {
   "cell_type": "code",
   "execution_count": 2,
   "id": "a7d6174f-0829-432e-aaed-68bb8b21a029",
   "metadata": {},
   "outputs": [
    {
     "name": "stdout",
     "output_type": "stream",
     "text": [
      "r-squared:\t 0.9999784552958134\n"
     ]
    }
   ],
   "source": [
    "# Perform calibration\n",
    "ccs_cal_pos = deimos.calibration.calibrate_ccs(mz=[118.086255, 322.048121, 622.028960, 922.009798, 1221.990636, 1521.971475],\n",
    "                                               ccs=[121.3, 153.7, 203, 243.6, 282.2, 317],\n",
    "                                               q=[1, 1, 1, 1, 1, 1],\n",
    "                                               ta=[14.078552, 19.13204, 25.799976, 31.193768, 36.225488, 40.712136],\n",
    "                                               buffer_mass=28.013)\n",
    "\n",
    "# R-squared\n",
    "print('r-squared:\\t', ccs_cal_pos.fit['r'] ** 2)"
   ]
  },
  {
   "cell_type": "code",
   "execution_count": 3,
   "id": "5246cd41-b0ac-475c-b17c-2fcc692fc39a",
   "metadata": {},
   "outputs": [
    {
     "name": "stdout",
     "output_type": "stream",
     "text": [
      "r-squared:\t 0.9999784552958134\n"
     ]
    }
   ],
   "source": [
    "# Perform calibration\n",
    "ccs_cal_neg = deimos.calibration.calibrate_ccs(mz=[301.998139, 601.978977, 1033.988109, 1333.968947, 1633.949786],\n",
    "                                               ccs=[140, 180.8, 255.3, 284.8, 319],\n",
    "                                               q=[1, 1, 1, 1, 1],\n",
    "                                               ta=[17.40552, 22.96208, 32.718984, 36.637792, 41.08044],\n",
    "                                               buffer_mass=28.013)\n",
    "\n",
    "# R-squared\n",
    "print('r-squared:\\t', ccs_cal_pos.fit['r'] ** 2)"
   ]
  },
  {
   "cell_type": "markdown",
   "id": "c85097db-5108-4dd3-88e0-1376a8a08209",
   "metadata": {},
   "source": [
    "The above requires detection of relevant ions in the tune mix data, which must be determined through peak detection or manual exploration of the data.\n",
    "To simplify the process, an additional `tunemix` function enables targeted feature detection by *m/z*, automatically returning the necessary drift times.\n",
    "For this usage, the data corresponding to a reference tune mix file must be supplied.\n",
    "The additional parameters `mz_tol` and `dt_tol` are used to refine the selection by *m/z* (in parts per million) and drift time (as a relative fraction), respectively."
   ]
  },
  {
   "cell_type": "code",
   "execution_count": 4,
   "id": "1946c9b0-da43-4037-8345-7f036bcc879d",
   "metadata": {},
   "outputs": [
    {
     "name": "stdout",
     "output_type": "stream",
     "text": [
      "r-squared:\t 0.9999784552958121\n"
     ]
    }
   ],
   "source": [
    "# Load tune mix data\n",
    "tune_pos = deimos.load('example_tune_pos.h5', key='ms1')\n",
    "\n",
    "# Perform calibration\n",
    "ccs_cal_pos = deimos.calibration.tunemix(tune_pos,\n",
    "                                         mz=[118.086255, 322.048121, 622.028960, 922.009798, 1221.990636, 1521.971475],\n",
    "                                         ccs=[121.3, 153.7, 203, 243.6, 282.2, 317],\n",
    "                                         q=[1, 1, 1, 1, 1, 1],\n",
    "                                         buffer_mass=28.013, mz_tol=200E-6, dt_tol=0.04)\n",
    "\n",
    "# R-squared\n",
    "print('r-squared:\\t', ccs_cal_pos.fit['r'] ** 2)"
   ]
  },
  {
   "cell_type": "code",
   "execution_count": 5,
   "id": "8f289bd7-7d98-490b-9079-04b7e06e3489",
   "metadata": {},
   "outputs": [
    {
     "name": "stdout",
     "output_type": "stream",
     "text": [
      "r-squared:\t 0.9999784552958121\n"
     ]
    }
   ],
   "source": [
    "# Load tune mix data\n",
    "tune_neg = deimos.load('example_tune_neg.h5', key='ms1')\n",
    "\n",
    "# Perform calibration\n",
    "ccs_cal_neg = deimos.calibration.tunemix(tune_neg,\n",
    "                                         mz=[301.998139, 601.978977, 1033.988109, 1333.968947, 1633.949786],\n",
    "                                         ccs=[140, 180.8, 255.3, 284.8, 319],\n",
    "                                         q=[1, 1, 1, 1, 1],\n",
    "                                         buffer_mass=28.013, mz_tol=200E-6, dt_tol=0.04)\n",
    "\n",
    "# R-squared\n",
    "print('r-squared:\\t', ccs_cal_pos.fit['r'] ** 2)"
   ]
  },
  {
   "cell_type": "markdown",
   "id": "d82c2ba8-9568-49e0-8e80-063d4fb3697f",
   "metadata": {},
   "source": [
    "Finally, fit parameters `beta` and `tfix` may be supplied directly, for example when using vendor software to determine calibration."
   ]
  },
  {
   "cell_type": "code",
   "execution_count": 6,
   "id": "7e02a744-1662-4ece-96bf-2b623659f01d",
   "metadata": {},
   "outputs": [],
   "source": [
    "# Calibrate positive mode\n",
    "ccs_cal_pos = deimos.calibration.calibrate_ccs(beta=0.12991516042484708,\n",
    "                                               tfix=-0.03528247661068562)\n",
    "\n",
    "# Calibrate negative mode\n",
    "ccs_cal_neg = deimos.calibration.calibrate_ccs(beta=0.12987753172172878,\n",
    "                                               tfix=0.010482041068836878)"
   ]
  },
  {
   "cell_type": "markdown",
   "id": "8aa3f233-1aad-40b2-aad8-67bf7946ef3e",
   "metadata": {},
   "source": [
    "## Travelling Wave IMS"
   ]
  },
  {
   "cell_type": "markdown",
   "id": "4c29ddcf-cf06-4a26-aef5-b42198efa1d5",
   "metadata": {},
   "source": [
    "For travelling wave IMS, the relationship between measurement and CCS must be linearized by the natural logarithm, then fit by linear regression.\n",
    "Usage is similar to the linear case, save specification of the `power` flag, which must be set to `True`. \n",
    "The same use cases -- supplying calibrant coordinates directly, using a tune mix data file, or supply beta and tfix directly, all still apply. \n",
    "The below was for positive mode data, values supplied directly."
   ]
  },
  {
   "cell_type": "code",
   "execution_count": 7,
   "id": "79d54854-fece-4001-a9c8-be468bdbb81d",
   "metadata": {},
   "outputs": [
    {
     "data": {
      "text/html": [
       "<div>\n",
       "<style scoped>\n",
       "    .dataframe tbody tr th:only-of-type {\n",
       "        vertical-align: middle;\n",
       "    }\n",
       "\n",
       "    .dataframe tbody tr th {\n",
       "        vertical-align: top;\n",
       "    }\n",
       "\n",
       "    .dataframe thead th {\n",
       "        text-align: right;\n",
       "    }\n",
       "</style>\n",
       "<table border=\"1\" class=\"dataframe\">\n",
       "  <thead>\n",
       "    <tr style=\"text-align: right;\">\n",
       "      <th></th>\n",
       "      <th>mz</th>\n",
       "      <th>ta</th>\n",
       "      <th>ccs</th>\n",
       "      <th>charge</th>\n",
       "    </tr>\n",
       "  </thead>\n",
       "  <tbody>\n",
       "    <tr>\n",
       "      <th>0</th>\n",
       "      <td>556.271</td>\n",
       "      <td>6.93710</td>\n",
       "      <td>229.787425</td>\n",
       "      <td>1</td>\n",
       "    </tr>\n",
       "    <tr>\n",
       "      <th>1</th>\n",
       "      <td>472.314</td>\n",
       "      <td>6.83092</td>\n",
       "      <td>228.687678</td>\n",
       "      <td>1</td>\n",
       "    </tr>\n",
       "    <tr>\n",
       "      <th>2</th>\n",
       "      <td>455.284</td>\n",
       "      <td>5.79406</td>\n",
       "      <td>208.789013</td>\n",
       "      <td>1</td>\n",
       "    </tr>\n",
       "    <tr>\n",
       "      <th>3</th>\n",
       "      <td>380.212</td>\n",
       "      <td>4.89843</td>\n",
       "      <td>191.690478</td>\n",
       "      <td>1</td>\n",
       "    </tr>\n",
       "    <tr>\n",
       "      <th>4</th>\n",
       "      <td>311.075</td>\n",
       "      <td>3.76733</td>\n",
       "      <td>168.391880</td>\n",
       "      <td>1</td>\n",
       "    </tr>\n",
       "    <tr>\n",
       "      <th>5</th>\n",
       "      <td>215.054</td>\n",
       "      <td>2.75120</td>\n",
       "      <td>146.793283</td>\n",
       "      <td>1</td>\n",
       "    </tr>\n",
       "    <tr>\n",
       "      <th>6</th>\n",
       "      <td>195.082</td>\n",
       "      <td>2.45407</td>\n",
       "      <td>138.193775</td>\n",
       "      <td>1</td>\n",
       "    </tr>\n",
       "    <tr>\n",
       "      <th>7</th>\n",
       "      <td>152.066</td>\n",
       "      <td>2.12313</td>\n",
       "      <td>130.394467</td>\n",
       "      <td>1</td>\n",
       "    </tr>\n",
       "  </tbody>\n",
       "</table>\n",
       "</div>"
      ],
      "text/plain": [
       "        mz       ta         ccs  charge\n",
       "0  556.271  6.93710  229.787425       1\n",
       "1  472.314  6.83092  228.687678       1\n",
       "2  455.284  5.79406  208.789013       1\n",
       "3  380.212  4.89843  191.690478       1\n",
       "4  311.075  3.76733  168.391880       1\n",
       "5  215.054  2.75120  146.793283       1\n",
       "6  195.082  2.45407  138.193775       1\n",
       "7  152.066  2.12313  130.394467       1"
      ]
     },
     "execution_count": 7,
     "metadata": {},
     "output_type": "execute_result"
    }
   ],
   "source": [
    "# Load tune data\n",
    "twave_tune = deimos.load('example_tune_twave.h5', key='ms1')\n",
    "twave_tune"
   ]
  },
  {
   "cell_type": "code",
   "execution_count": 8,
   "id": "604f2646-d303-40e7-8f6f-e50e63c8258e",
   "metadata": {},
   "outputs": [
    {
     "name": "stdout",
     "output_type": "stream",
     "text": [
      "r-squared:\t 0.9997453731735061\n"
     ]
    }
   ],
   "source": [
    "# Perform calibration\n",
    "ccs_cal_twave = deimos.calibration.calibrate_ccs(mz=twave_tune['mz'],\n",
    "                                                 ta=twave_tune['ta'],\n",
    "                                                 ccs=twave_tune['ccs'],\n",
    "                                                 q=twave_tune['charge'],\n",
    "                                                 buffer_mass=28.013,\n",
    "                                                 power=True)\n",
    "\n",
    "# R-squared\n",
    "print('r-squared:\\t', ccs_cal_twave.fit['r'] ** 2)"
   ]
  },
  {
   "cell_type": "markdown",
   "id": "44195863-97d9-432a-9202-481f89e44c0c",
   "metadata": {},
   "source": [
    "## Apply"
   ]
  },
  {
   "cell_type": "markdown",
   "id": "deb14f61-4a1d-480c-a6aa-4fc7adec79f2",
   "metadata": {},
   "source": [
    "The calibration is applied in the same way across IMS types.\n",
    "In each above case, a instance of a `CCSCalibration` object is returned, ensuring the appropriate internal model (linear versus power) is consisently applied.\n",
    "To produce CCS values, simply supply *m/z*, drift time, and charge to the `arrival2ccs` method."
   ]
  },
  {
   "cell_type": "code",
   "execution_count": 9,
   "id": "2094ccd0-a44e-4c76-87a6-96a51051923b",
   "metadata": {},
   "outputs": [
    {
     "data": {
      "text/plain": [
       "153.8201287278313"
      ]
     },
     "execution_count": 9,
     "metadata": {},
     "output_type": "execute_result"
    }
   ],
   "source": [
    "ccs_cal_pos.arrival2ccs(mz=322.048121, ta=19.13204, q=1)"
   ]
  },
  {
   "cell_type": "markdown",
   "id": "d4cea33b-f439-44ff-a503-cfac503c1bab",
   "metadata": {},
   "source": [
    "The function also accepts vectors of values such that entire data frames may be processed."
   ]
  },
  {
   "cell_type": "code",
   "execution_count": 10,
   "id": "3f6f5500-1e4a-47af-8387-579ddf509b9c",
   "metadata": {},
   "outputs": [
    {
     "data": {
      "text/plain": [
       "array([3.25792330e-01, 3.25790167e-01, 3.25788007e-01, ...,\n",
       "       5.44737609e+02, 5.43764661e+02, 5.43764615e+02])"
      ]
     },
     "execution_count": 10,
     "metadata": {},
     "output_type": "execute_result"
    }
   ],
   "source": [
    "ccs_cal_pos.arrival2ccs(mz=tune_pos['mz'], ta=tune_pos['drift_time'], q=1)"
   ]
  },
  {
   "cell_type": "markdown",
   "id": "a197732a-771b-42af-b8e2-1063d74a55af",
   "metadata": {},
   "source": [
    "Similarly, the `ccs2arrival` method may be used to compute drift time from *m/z* and CCS."
   ]
  },
  {
   "cell_type": "code",
   "execution_count": 11,
   "id": "6e9f9db3-0a97-497a-bae9-2b521a8f7228",
   "metadata": {},
   "outputs": [
    {
     "data": {
      "text/plain": [
       "19.132023959395465"
      ]
     },
     "execution_count": 11,
     "metadata": {},
     "output_type": "execute_result"
    }
   ],
   "source": [
    "ccs_cal_pos.ccs2arrival(mz=322.048121, ccs=153.82, q=1)"
   ]
  }
 ],
 "metadata": {
  "kernelspec": {
   "display_name": "Python 3 (ipykernel)",
   "language": "python",
   "name": "python3"
  },
  "language_info": {
   "codemirror_mode": {
    "name": "ipython",
    "version": 3
   },
   "file_extension": ".py",
   "mimetype": "text/x-python",
   "name": "python",
   "nbconvert_exporter": "python",
   "pygments_lexer": "ipython3",
   "version": "3.7.12"
  }
 },
 "nbformat": 4,
 "nbformat_minor": 5
}
